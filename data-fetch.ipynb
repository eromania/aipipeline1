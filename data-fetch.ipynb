{
 "cells": [
  {
   "cell_type": "code",
   "execution_count": null,
   "id": "271fb372-23e9-4aeb-9add-2e9bacd81a46",
   "metadata": {},
   "outputs": [],
   "source": [
    "!mkdir -p ~/.kaggle\n",
    "!cp kaggle.json ~/.kaggle/"
   ]
  },
  {
   "cell_type": "code",
   "execution_count": null,
   "id": "abe0a323-4d94-4a11-9067-e53d908963d8",
   "metadata": {},
   "outputs": [],
   "source": [
    "! pip install kaggle"
   ]
  },
  {
   "cell_type": "code",
   "execution_count": null,
   "id": "05884c4d-e4a7-4f7f-9054-3c75a35b2a2e",
   "metadata": {},
   "outputs": [],
   "source": [
    "!kaggle datasets download -d rabieelkharoua/fictional-character-battle-outcome-prediction"
   ]
  },
  {
   "cell_type": "code",
   "execution_count": null,
   "id": "2972a766-b2a9-4ece-968b-b7c4cc55ab7b",
   "metadata": {},
   "outputs": [],
   "source": []
  }
 ],
 "metadata": {
  "kernelspec": {
   "display_name": "Python 3.9",
   "language": "python",
   "name": "python3"
  },
  "language_info": {
   "codemirror_mode": {
    "name": "ipython",
    "version": 3
   },
   "file_extension": ".py",
   "mimetype": "text/x-python",
   "name": "python",
   "nbconvert_exporter": "python",
   "pygments_lexer": "ipython3",
   "version": "3.9.16"
  }
 },
 "nbformat": 4,
 "nbformat_minor": 5
}
