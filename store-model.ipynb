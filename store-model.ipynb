{
 "cells": [
  {
   "cell_type": "code",
   "execution_count": 3,
   "id": "c02edb95-a546-4648-bc2e-3e9b1d3aa07f",
   "metadata": {},
   "outputs": [],
   "source": [
    "from minio import Minio\n",
    "import os\n",
    "\n",
    "aws_access_key_id = os.environ.get ('AWS_ACCESS_KEY_ID')\n",
    "aws_secret_access_key = os.environ.get('AWS_SECRET_ACCESS_KEY')\n",
    "endpoint_url = os.environ.get('AWS_S3_ENDPOINT')\n",
    "region_name = os.environ.get('AWS_DEFAULT_REGION')\n",
    "bucket_name = os.environ.get(' AWS_S3_BUCKET')"
   ]
  },
  {
   "cell_type": "code",
   "execution_count": 6,
   "id": "3f1b871e-a491-4054-8def-ab384470f74a",
   "metadata": {},
   "outputs": [
    {
     "ename": "ValueError",
     "evalue": "path in endpoint is not allowed",
     "output_type": "error",
     "traceback": [
      "\u001b[31m---------------------------------------------------------------------------\u001b[39m",
      "\u001b[31mValueError\u001b[39m                                Traceback (most recent call last)",
      "\u001b[36mCell\u001b[39m\u001b[36m \u001b[39m\u001b[32mIn[6]\u001b[39m\u001b[32m, line 1\u001b[39m\n\u001b[32m----> \u001b[39m\u001b[32m1\u001b[39m client = \u001b[43mMinio\u001b[49m\u001b[43m(\u001b[49m\u001b[43mendpoint_url\u001b[49m\u001b[43m,\u001b[49m\u001b[43m \u001b[49m\u001b[43maws_access_key_id\u001b[49m\u001b[43m,\u001b[49m\u001b[43m \u001b[49m\u001b[43maws_secret_access_key\u001b[49m\u001b[43m)\u001b[49m\n\u001b[32m      3\u001b[39m \u001b[38;5;66;03m#client.fput_object(\"ddd-proje-01-pipelines\", \"battle.pickle\", \"models/battle.pickle\")\u001b[39;00m\n\u001b[32m      4\u001b[39m client.fput_object(\u001b[33m\"\u001b[39m\u001b[33mddd-proje-01-pipelines\u001b[39m\u001b[33m\"\u001b[39m, \u001b[33m\"\u001b[39m\u001b[33mREADME.md\u001b[39m\u001b[33m\"\u001b[39m, \u001b[33m\"\u001b[39m\u001b[33mmodels/README.md\u001b[39m\u001b[33m\"\u001b[39m)\n",
      "\u001b[36mFile \u001b[39m\u001b[32m/opt/app-root/lib64/python3.11/site-packages/minio/api.py:153\u001b[39m, in \u001b[36mMinio.__init__\u001b[39m\u001b[34m(self, endpoint, access_key, secret_key, session_token, secure, region, http_client, credentials, cert_check)\u001b[39m\n\u001b[32m    148\u001b[39m     \u001b[38;5;28;01mraise\u001b[39;00m \u001b[38;5;167;01mValueError\u001b[39;00m(\n\u001b[32m    149\u001b[39m         \u001b[33m\"\u001b[39m\u001b[33mHTTP client should be instance of `urllib3.PoolManager`\u001b[39m\u001b[33m\"\u001b[39m\n\u001b[32m    150\u001b[39m     )\n\u001b[32m    152\u001b[39m \u001b[38;5;28mself\u001b[39m._region_map = {}\n\u001b[32m--> \u001b[39m\u001b[32m153\u001b[39m \u001b[38;5;28mself\u001b[39m._base_url = \u001b[43mBaseURL\u001b[49m\u001b[43m(\u001b[49m\n\u001b[32m    154\u001b[39m \u001b[43m    \u001b[49m\u001b[43m(\u001b[49m\u001b[33;43m\"\u001b[39;49m\u001b[33;43mhttps://\u001b[39;49m\u001b[33;43m\"\u001b[39;49m\u001b[43m \u001b[49m\u001b[38;5;28;43;01mif\u001b[39;49;00m\u001b[43m \u001b[49m\u001b[43msecure\u001b[49m\u001b[43m \u001b[49m\u001b[38;5;28;43;01melse\u001b[39;49;00m\u001b[43m \u001b[49m\u001b[33;43m\"\u001b[39;49m\u001b[33;43mhttp://\u001b[39;49m\u001b[33;43m\"\u001b[39;49m\u001b[43m)\u001b[49m\u001b[43m \u001b[49m\u001b[43m+\u001b[49m\u001b[43m \u001b[49m\u001b[43mendpoint\u001b[49m\u001b[43m,\u001b[49m\n\u001b[32m    155\u001b[39m \u001b[43m    \u001b[49m\u001b[43mregion\u001b[49m\u001b[43m,\u001b[49m\n\u001b[32m    156\u001b[39m \u001b[43m\u001b[49m\u001b[43m)\u001b[49m\n\u001b[32m    157\u001b[39m \u001b[38;5;28mself\u001b[39m._user_agent = _DEFAULT_USER_AGENT\n\u001b[32m    158\u001b[39m \u001b[38;5;28mself\u001b[39m._trace_stream = \u001b[38;5;28;01mNone\u001b[39;00m\n",
      "\u001b[36mFile \u001b[39m\u001b[32m/opt/app-root/lib64/python3.11/site-packages/minio/helpers.py:551\u001b[39m, in \u001b[36mBaseURL.__init__\u001b[39m\u001b[34m(self, endpoint, region)\u001b[39m\n\u001b[32m    550\u001b[39m \u001b[38;5;28;01mdef\u001b[39;00m\u001b[38;5;250m \u001b[39m\u001b[34m__init__\u001b[39m(\u001b[38;5;28mself\u001b[39m, endpoint: \u001b[38;5;28mstr\u001b[39m, region: \u001b[38;5;28mstr\u001b[39m | \u001b[38;5;28;01mNone\u001b[39;00m):\n\u001b[32m--> \u001b[39m\u001b[32m551\u001b[39m     url = \u001b[43m_parse_url\u001b[49m\u001b[43m(\u001b[49m\u001b[43mendpoint\u001b[49m\u001b[43m)\u001b[49m\n\u001b[32m    553\u001b[39m     \u001b[38;5;28;01mif\u001b[39;00m region \u001b[38;5;129;01mand\u001b[39;00m \u001b[38;5;129;01mnot\u001b[39;00m _REGION_REGEX.match(region):\n\u001b[32m    554\u001b[39m         \u001b[38;5;28;01mraise\u001b[39;00m \u001b[38;5;167;01mValueError\u001b[39;00m(\u001b[33mf\u001b[39m\u001b[33m\"\u001b[39m\u001b[33minvalid region \u001b[39m\u001b[38;5;132;01m{\u001b[39;00mregion\u001b[38;5;132;01m}\u001b[39;00m\u001b[33m\"\u001b[39m)\n",
      "\u001b[36mFile \u001b[39m\u001b[32m/opt/app-root/lib64/python3.11/site-packages/minio/helpers.py:512\u001b[39m, in \u001b[36m_parse_url\u001b[39m\u001b[34m(endpoint)\u001b[39m\n\u001b[32m    509\u001b[39m url = url_replace(url, scheme=url.scheme.lower())\n\u001b[32m    511\u001b[39m \u001b[38;5;28;01mif\u001b[39;00m url.path \u001b[38;5;129;01mand\u001b[39;00m url.path != \u001b[33m\"\u001b[39m\u001b[33m/\u001b[39m\u001b[33m\"\u001b[39m:\n\u001b[32m--> \u001b[39m\u001b[32m512\u001b[39m     \u001b[38;5;28;01mraise\u001b[39;00m \u001b[38;5;167;01mValueError\u001b[39;00m(\u001b[33m\"\u001b[39m\u001b[33mpath in endpoint is not allowed\u001b[39m\u001b[33m\"\u001b[39m)\n\u001b[32m    514\u001b[39m url = url_replace(url, path=\u001b[33m\"\u001b[39m\u001b[33m\"\u001b[39m)\n\u001b[32m    516\u001b[39m \u001b[38;5;28;01mif\u001b[39;00m url.query:\n",
      "\u001b[31mValueError\u001b[39m: path in endpoint is not allowed"
     ]
    }
   ],
   "source": [
    "client = Minio(endpoint_url, aws_access_key_id, aws_secret_access_key)\n",
    "\n",
    "#client.fput_object(\"ddd-proje-01-pipelines\", \"battle.pickle\", \"models/battle.pickle\")\n",
    "client.fput_object(\"ddd-proje-01-pipelines\", \"README.md\", \"models/README.md\")"
   ]
  },
  {
   "cell_type": "code",
   "execution_count": 7,
   "id": "87e99473-1a30-403b-acc8-5f146dfbc578",
   "metadata": {},
   "outputs": [
    {
     "ename": "FileNotFoundError",
     "evalue": "[Errno 2] No such file or directory: 'models/README.md'",
     "output_type": "error",
     "traceback": [
      "\u001b[31m---------------------------------------------------------------------------\u001b[39m",
      "\u001b[31mFileNotFoundError\u001b[39m                         Traceback (most recent call last)",
      "\u001b[36mCell\u001b[39m\u001b[36m \u001b[39m\u001b[32mIn[7]\u001b[39m\u001b[32m, line 32\u001b[39m\n\u001b[32m     29\u001b[39m         client.make_bucket(bucket, location=region)\n\u001b[32m     31\u001b[39m \u001b[38;5;66;03m# Example upload\u001b[39;00m\n\u001b[32m---> \u001b[39m\u001b[32m32\u001b[39m \u001b[43mclient\u001b[49m\u001b[43m.\u001b[49m\u001b[43mfput_object\u001b[49m\u001b[43m(\u001b[49m\u001b[43mbucket\u001b[49m\u001b[43m,\u001b[49m\u001b[43m \u001b[49m\u001b[33;43m\"\u001b[39;49m\u001b[33;43mREADME.md\u001b[39;49m\u001b[33;43m\"\u001b[39;49m\u001b[43m,\u001b[49m\u001b[43m \u001b[49m\u001b[33;43m\"\u001b[39;49m\u001b[33;43mmodels/README.md\u001b[39;49m\u001b[33;43m\"\u001b[39;49m\u001b[43m)\u001b[49m\n",
      "\u001b[36mFile \u001b[39m\u001b[32m/opt/app-root/lib64/python3.11/site-packages/minio/api.py:1049\u001b[39m, in \u001b[36mMinio.fput_object\u001b[39m\u001b[34m(self, bucket_name, object_name, file_path, content_type, metadata, sse, progress, part_size, num_parallel_uploads, tags, retention, legal_hold)\u001b[39m\n\u001b[32m    990\u001b[39m \u001b[38;5;28;01mdef\u001b[39;00m\u001b[38;5;250m \u001b[39m\u001b[34mfput_object\u001b[39m(\n\u001b[32m    991\u001b[39m         \u001b[38;5;28mself\u001b[39m,\n\u001b[32m    992\u001b[39m         bucket_name: \u001b[38;5;28mstr\u001b[39m,\n\u001b[32m   (...)\u001b[39m\u001b[32m   1003\u001b[39m         legal_hold: \u001b[38;5;28mbool\u001b[39m = \u001b[38;5;28;01mFalse\u001b[39;00m,\n\u001b[32m   1004\u001b[39m ) -> ObjectWriteResult:\n\u001b[32m   1005\u001b[39m \u001b[38;5;250m    \u001b[39m\u001b[33;03m\"\"\"\u001b[39;00m\n\u001b[32m   1006\u001b[39m \u001b[33;03m    Uploads data from a file to an object in a bucket.\u001b[39;00m\n\u001b[32m   1007\u001b[39m \n\u001b[32m   (...)\u001b[39m\u001b[32m   1046\u001b[39m \u001b[33;03m        )\u001b[39;00m\n\u001b[32m   1047\u001b[39m \u001b[33;03m    \"\"\"\u001b[39;00m\n\u001b[32m-> \u001b[39m\u001b[32m1049\u001b[39m     file_size = \u001b[43mos\u001b[49m\u001b[43m.\u001b[49m\u001b[43mstat\u001b[49m\u001b[43m(\u001b[49m\u001b[43mfile_path\u001b[49m\u001b[43m)\u001b[49m.st_size\n\u001b[32m   1050\u001b[39m     \u001b[38;5;28;01mwith\u001b[39;00m \u001b[38;5;28mopen\u001b[39m(file_path, \u001b[33m\"\u001b[39m\u001b[33mrb\u001b[39m\u001b[33m\"\u001b[39m) \u001b[38;5;28;01mas\u001b[39;00m file_data:\n\u001b[32m   1051\u001b[39m         \u001b[38;5;28;01mreturn\u001b[39;00m \u001b[38;5;28mself\u001b[39m.put_object(\n\u001b[32m   1052\u001b[39m             bucket_name,\n\u001b[32m   1053\u001b[39m             object_name,\n\u001b[32m   (...)\u001b[39m\u001b[32m   1064\u001b[39m             legal_hold=legal_hold,\n\u001b[32m   1065\u001b[39m         )\n",
      "\u001b[31mFileNotFoundError\u001b[39m: [Errno 2] No such file or directory: 'models/README.md'"
     ]
    }
   ],
   "source": [
    "from minio import Minio\n",
    "import os\n",
    "from urllib.parse import urlsplit\n",
    "\n",
    "# Read envs\n",
    "access_key = os.getenv(\"AWS_ACCESS_KEY_ID\")\n",
    "secret_key = os.getenv(\"AWS_SECRET_ACCESS_KEY\")\n",
    "raw_ep     = os.getenv(\"AWS_S3_ENDPOINT\", \"\")     # e.g. \"minio.mycorp.local:9000\" or \"https://minio.mycorp.local:9000/minio\"\n",
    "region     = os.getenv(\"AWS_DEFAULT_REGION\")       # optional\n",
    "bucket     = os.getenv(\"AWS_S3_BUCKET\")\n",
    "\n",
    "# Normalize endpoint: keep only host[:port], infer secure from scheme if present\n",
    "u = urlsplit(raw_ep if \"://\" in raw_ep else f\"//{raw_ep}\")  # allowing bare host:port\n",
    "endpoint = (u.netloc or u.path.split(\"/\")[0]).strip()       # drop any /path\n",
    "secure   = (u.scheme != \"http\") if u.scheme else True       # default to https\n",
    "\n",
    "# Create client\n",
    "client = Minio(\n",
    "    endpoint,\n",
    "    access_key=access_key,\n",
    "    secret_key=secret_key,\n",
    "    region=region,        # ok to leave None for MinIO; required for AWS S3\n",
    "    secure=secure,\n",
    ")\n",
    "\n",
    "# (Optional) ensure bucket exists\n",
    "if bucket:\n",
    "    if not client.bucket_exists(bucket):\n",
    "        client.make_bucket(bucket, location=region)\n",
    "\n",
    "# Example upload\n",
    "client.fput_object(bucket, \"models/README.md\", \"README.md\")"
   ]
  },
  {
   "cell_type": "code",
   "execution_count": null,
   "id": "21a18c1e-06f8-4942-b5fa-4c52e321d14a",
   "metadata": {},
   "outputs": [],
   "source": []
  },
  {
   "cell_type": "code",
   "execution_count": null,
   "id": "b8a347f2-ca62-448b-b625-eeea1f45afda",
   "metadata": {},
   "outputs": [],
   "source": []
  }
 ],
 "metadata": {
  "kernelspec": {
   "display_name": "Python 3.11",
   "language": "python",
   "name": "python3"
  },
  "language_info": {
   "codemirror_mode": {
    "name": "ipython",
    "version": 3
   },
   "file_extension": ".py",
   "mimetype": "text/x-python",
   "name": "python",
   "nbconvert_exporter": "python",
   "pygments_lexer": "ipython3",
   "version": "3.11.11"
  }
 },
 "nbformat": 4,
 "nbformat_minor": 5
}
