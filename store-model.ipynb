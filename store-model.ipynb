{
 "cells": [
  {
   "cell_type": "code",
   "execution_count": 3,
   "id": "c02edb95-a546-4648-bc2e-3e9b1d3aa07f",
   "metadata": {},
   "outputs": [],
   "source": [
    "from minio import Minio\n",
    "import os\n",
    "\n",
    "aws_access_key_id = os.environ.get ('AWS_ACCESS_KEY_ID')\n",
    "aws_secret_access_key = os.environ.get('AWS_SECRET_ACCESS_KEY')\n",
    "endpoint_url = os.environ.get('AWS_S3_ENDPOINT')\n",
    "region_name = os.environ.get('AWS_DEFAULT_REGION')\n",
    "bucket_name = os.environ.get(' AWS_S3_BUCKET')"
   ]
  },
  {
   "cell_type": "code",
   "execution_count": null,
   "id": "21a18c1e-06f8-4942-b5fa-4c52e321d14a",
   "metadata": {},
   "outputs": [],
   "source": [
    "from minio import Minio\n",
    "import os\n",
    "from urllib.parse import urlsplit\n",
    "\n",
    "# Read envs\n",
    "access_key = os.getenv(\"AWS_ACCESS_KEY_ID\")\n",
    "secret_key = os.getenv(\"AWS_SECRET_ACCESS_KEY\")\n",
    "raw_ep     = os.getenv(\"AWS_S3_ENDPOINT\", \"\")     # e.g. \"minio.mycorp.local:9000\" or \"https://minio.mycorp.local:9000/minio\"\n",
    "region     = os.getenv(\"AWS_DEFAULT_REGION\")       # optional\n",
    "bucket     = os.getenv(\"AWS_S3_BUCKET\")\n",
    "\n",
    "# Normalize endpoint: keep only host[:port], infer secure from scheme if present\n",
    "u = urlsplit(raw_ep if \"://\" in raw_ep else f\"//{raw_ep}\")  # allowing bare host:port\n",
    "endpoint = (u.netloc or u.path.split(\"/\")[0]).strip()       # drop any /path\n",
    "secure   = (u.scheme != \"http\") if u.scheme else True       # default to https\n",
    "\n",
    "# Create client\n",
    "client = Minio(\n",
    "    endpoint,\n",
    "    access_key=access_key,\n",
    "    secret_key=secret_key,\n",
    "    region=region,        # ok to leave None for MinIO; required for AWS S3\n",
    "    secure=secure,\n",
    ")\n",
    "\n",
    "# (Optional) ensure bucket exists\n",
    "if bucket:\n",
    "    if not client.bucket_exists(bucket):\n",
    "        client.make_bucket(bucket, location=region)\n",
    "\n",
    "# Example upload\n",
    "client.fput_object(bucket, \"models/battle.pickle\", \"battle.pickle\")"
   ]
  }
 ],
 "metadata": {
  "kernelspec": {
   "display_name": "Python 3.11",
   "language": "python",
   "name": "python3"
  },
  "language_info": {
   "codemirror_mode": {
    "name": "ipython",
    "version": 3
   },
   "file_extension": ".py",
   "mimetype": "text/x-python",
   "name": "python",
   "nbconvert_exporter": "python",
   "pygments_lexer": "ipython3",
   "version": "3.11.11"
  }
 },
 "nbformat": 4,
 "nbformat_minor": 5
}
