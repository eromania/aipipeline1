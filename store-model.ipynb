from minio import Minio

client = Minio("minio-api-utherp0-dev.apps.rm1.0a51.p1.openshiftapps.com", "miniosandbox", "miniosandbox")

client.fput_object("openshift-ai-pipeline", "battle.pickle", "models/battle.pickle")
