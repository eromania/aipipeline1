{
    "cells": [
     {
      "cell_type": "raw",
      "id": "4b69c835-54f8-464c-97a8-6ffc969d7e44",
      "metadata": {},
      "source": [
       "from minio import Minio\n",
       "\n",
       "client = Minio(\"minio-api-utherp0-dev.apps.rm1.0a51.p1.openshiftapps.com\", \"miniosandbox\", \"miniosandbox\")\n",
       "\n",
       "client.fput_object(\"openshift-ai-pipeline\", \"battle.pickle\", \"models/battle.pickle\")"
      ]
     }
    ],
    "metadata": {
     "kernelspec": {
      "display_name": "Python 3.11",
      "language": "python",
      "name": "python3"
     },
     "language_info": {
      "codemirror_mode": {
       "name": "ipython",
       "version": 3
      },
      "file_extension": ".py",
      "mimetype": "text/x-python",
      "name": "python",
      "nbconvert_exporter": "python",
      "pygments_lexer": "ipython3",
      "version": "3.11.11"
     }
    },
    "nbformat": 4,
    "nbformat_minor": 5
   }
