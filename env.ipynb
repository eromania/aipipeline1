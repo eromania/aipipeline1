{
 "cells": [
  {
   "cell_type": "code",
   "execution_count": 1,
   "id": "5c90f834-12aa-4d88-974f-37932caa1c6c",
   "metadata": {},
   "outputs": [],
   "source": [
    "import os\n",
    "import pandas as pd"
   ]
  },
  {
   "cell_type": "code",
   "execution_count": 2,
   "id": "e5c492fe-5ed2-4b49-9934-0c1bdd5fc078",
   "metadata": {},
   "outputs": [
    {
     "data": {
      "text/html": [
       "<div>\n",
       "<style scoped>\n",
       "    .dataframe tbody tr th:only-of-type {\n",
       "        vertical-align: middle;\n",
       "    }\n",
       "\n",
       "    .dataframe tbody tr th {\n",
       "        vertical-align: top;\n",
       "    }\n",
       "\n",
       "    .dataframe thead th {\n",
       "        text-align: right;\n",
       "    }\n",
       "</style>\n",
       "<table border=\"1\" class=\"dataframe\">\n",
       "  <thead>\n",
       "    <tr style=\"text-align: right;\">\n",
       "      <th></th>\n",
       "      <th>KEY</th>\n",
       "      <th>VALUE</th>\n",
       "    </tr>\n",
       "  </thead>\n",
       "  <tbody>\n",
       "    <tr>\n",
       "      <th>26</th>\n",
       "      <td>APP_ROOT</td>\n",
       "      <td>/opt/app-root</td>\n",
       "    </tr>\n",
       "    <tr>\n",
       "      <th>33</th>\n",
       "      <td>AWS_ACCESS_KEY_ID</td>\n",
       "      <td>••• redacted •••</td>\n",
       "    </tr>\n",
       "    <tr>\n",
       "      <th>9</th>\n",
       "      <td>AWS_DEFAULT_REGION</td>\n",
       "      <td>aselsan</td>\n",
       "    </tr>\n",
       "    <tr>\n",
       "      <th>30</th>\n",
       "      <td>AWS_S3_BUCKET</td>\n",
       "      <td>aselsan-demo-001</td>\n",
       "    </tr>\n",
       "    <tr>\n",
       "      <th>3</th>\n",
       "      <td>AWS_S3_ENDPOINT</td>\n",
       "      <td>http://minio.minio-dev.svc.cluster.local:9000</td>\n",
       "    </tr>\n",
       "    <tr>\n",
       "      <th>...</th>\n",
       "      <td>...</td>\n",
       "      <td>...</td>\n",
       "    </tr>\n",
       "    <tr>\n",
       "      <th>27</th>\n",
       "      <td>TERM</td>\n",
       "      <td>xterm-color</td>\n",
       "    </tr>\n",
       "    <tr>\n",
       "      <th>22</th>\n",
       "      <td>VIRTUAL_ENV</td>\n",
       "      <td>/opt/app-root</td>\n",
       "    </tr>\n",
       "    <tr>\n",
       "      <th>36</th>\n",
       "      <td>VIRTUAL_ENV_PROMPT</td>\n",
       "      <td>(app-root)</td>\n",
       "    </tr>\n",
       "    <tr>\n",
       "      <th>50</th>\n",
       "      <td>_</td>\n",
       "      <td>/opt/app-root/bin/jupyter</td>\n",
       "    </tr>\n",
       "    <tr>\n",
       "      <th>15</th>\n",
       "      <td>container</td>\n",
       "      <td>oci</td>\n",
       "    </tr>\n",
       "  </tbody>\n",
       "</table>\n",
       "<p>61 rows × 2 columns</p>\n",
       "</div>"
      ],
      "text/plain": [
       "                   KEY                                          VALUE\n",
       "26            APP_ROOT                                  /opt/app-root\n",
       "33   AWS_ACCESS_KEY_ID                               ••• redacted •••\n",
       "9   AWS_DEFAULT_REGION                                        aselsan\n",
       "30       AWS_S3_BUCKET                               aselsan-demo-001\n",
       "3      AWS_S3_ENDPOINT  http://minio.minio-dev.svc.cluster.local:9000\n",
       "..                 ...                                            ...\n",
       "27                TERM                                    xterm-color\n",
       "22         VIRTUAL_ENV                                  /opt/app-root\n",
       "36  VIRTUAL_ENV_PROMPT                                    (app-root) \n",
       "50                   _                      /opt/app-root/bin/jupyter\n",
       "15           container                                            oci\n",
       "\n",
       "[61 rows x 2 columns]"
      ]
     },
     "execution_count": 2,
     "metadata": {},
     "output_type": "execute_result"
    }
   ],
   "source": [
    "env = pd.DataFrame(os.environ.items(), columns=[\"KEY\", \"VALUE\"]).sort_values(\"KEY\")\n",
    "mask = env[\"KEY\"].str.contains(r\"(?i)key|token|secret|pass|pwd\")\n",
    "env.loc[mask, \"VALUE\"] = \"••• redacted •••\"\n",
    "env  # In notebooks, returning a DataFrame renders it as a table"
   ]
  },
  {
   "cell_type": "code",
   "execution_count": null,
   "id": "4eb2f41c-6a52-4f62-9980-2c04b8df1e2e",
   "metadata": {},
   "outputs": [],
   "source": []
  }
 ],
 "metadata": {
  "kernelspec": {
   "display_name": "Python 3.11",
   "language": "python",
   "name": "python3"
  },
  "language_info": {
   "codemirror_mode": {
    "name": "ipython",
    "version": 3
   },
   "file_extension": ".py",
   "mimetype": "text/x-python",
   "name": "python",
   "nbconvert_exporter": "python",
   "pygments_lexer": "ipython3",
   "version": "3.11.11"
  }
 },
 "nbformat": 4,
 "nbformat_minor": 5
}
